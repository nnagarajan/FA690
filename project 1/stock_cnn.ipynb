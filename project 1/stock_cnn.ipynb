{
 "cells": [
  {
   "cell_type": "code",
   "execution_count": 1,
   "metadata": {
    "editable": true,
    "slideshow": {
     "slide_type": ""
    },
    "tags": []
   },
   "outputs": [],
   "source": [
    "import pandas as pd\n",
    "import numpy as np\n",
    "import os.path as op\n",
    "import torch\n",
    "from sklearn.metrics import accuracy_score, precision_score, recall_score, f1_score\n",
    "import matplotlib.pyplot as plt\n",
    "from sklearn.model_selection import TimeSeriesSplit\n",
    "from torch.utils.data import TensorDataset, DataLoader\n",
    "\n",
    "IMAGE_WIDTH = {5: 15, 20: 60, 60: 180}\n",
    "IMAGE_HEIGHT = {5: 32, 20: 64, 60: 96}   "
   ]
  },
  {
   "cell_type": "code",
   "execution_count": 2,
   "metadata": {
    "editable": true,
    "slideshow": {
     "slide_type": ""
    },
    "tags": []
   },
   "outputs": [],
   "source": [
    "if torch.cuda.is_available():\n",
    "    device = torch.device(\"cuda\")\n",
    "else:\n",
    "    device = torch.device(\"cpu\")\n",
    "\n",
    "#torch.set_default_device(\"cuda\")     \n",
    "#generator = torch.Generator(device=\"cuda\")  "
   ]
  },
  {
   "cell_type": "code",
   "execution_count": 3,
   "metadata": {
    "editable": true,
    "slideshow": {
     "slide_type": ""
    },
    "tags": []
   },
   "outputs": [],
   "source": [
    "# Input the path to the image data in your computer\n",
    "img_path = \"/mnt/naveens-mac/Stevens FA/FA690 - Machine Learning in Finance/projects/project 1/data\""
   ]
  },
  {
   "cell_type": "markdown",
   "metadata": {
    "editable": true,
    "slideshow": {
     "slide_type": ""
    },
    "tags": []
   },
   "source": [
    "## Load Images by Year"
   ]
  },
  {
   "cell_type": "markdown",
   "metadata": {
    "editable": true,
    "slideshow": {
     "slide_type": ""
    },
    "tags": []
   },
   "source": [
    "Sample Period: 1993 to 2019"
   ]
  },
  {
   "cell_type": "code",
   "execution_count": 4,
   "metadata": {
    "editable": true,
    "slideshow": {
     "slide_type": ""
    },
    "tags": []
   },
   "outputs": [],
   "source": [
    "# Load images in 2017\n",
    "year = 2017\n",
    "images = np.memmap(op.join(img_path, f\"20d_month_has_vb_[20]_ma_{year}_images.dat\"), dtype=np.uint8, mode='r').reshape(\n",
    "                        (-1, IMAGE_HEIGHT[20], IMAGE_WIDTH[20]))"
   ]
  },
  {
   "cell_type": "code",
   "execution_count": 5,
   "metadata": {
    "editable": true,
    "slideshow": {
     "slide_type": ""
    },
    "tags": []
   },
   "outputs": [
    {
     "name": "stdout",
     "output_type": "stream",
     "text": [
      "(67858, 64, 60)\n"
     ]
    },
    {
     "data": {
      "text/plain": [
       "memmap([[  0,   0,   0, ...,   0,   0,   0],\n",
       "        [  0,   0,   0, ...,   0,   0,   0],\n",
       "        [  0,   0,   0, ...,   0,   0,   0],\n",
       "        ...,\n",
       "        [  0, 255,   0, ...,   0,   0,   0],\n",
       "        [  0, 255,   0, ...,   0,   0,   0],\n",
       "        [  0, 255,   0, ...,   0, 255,   0]], dtype=uint8)"
      ]
     },
     "execution_count": 5,
     "metadata": {},
     "output_type": "execute_result"
    }
   ],
   "source": [
    "print(images.shape) # print the size of the image data\n",
    "images[0] # print an example image"
   ]
  },
  {
   "cell_type": "markdown",
   "metadata": {
    "editable": true,
    "slideshow": {
     "slide_type": ""
    },
    "tags": []
   },
   "source": [
    "## Load Labels\n",
    "\n",
    "- 'Date': The last day of the 20-day rolling window for the chart.\n",
    "- 'StockID': CRSP PERMNO that identifies the stock.\n",
    "- 'MarketCap': Market capitalization in dollar, recorded in thousands.\n",
    "- 'Ret_{t}d': t=5,20,60, next t-day holding period return.\n",
    "- 'Ret_month': Holding period return for the next month, from the current monthend to the next monthend.\n",
    "- 'EWMA_vol': Exponentially weighted volatility (square of daily returns) with alpha as 0.05. One day delay is included."
   ]
  },
  {
   "cell_type": "code",
   "execution_count": 18,
   "metadata": {
    "editable": true,
    "slideshow": {
     "slide_type": ""
    },
    "tags": []
   },
   "outputs": [
    {
     "data": {
      "text/html": [
       "<div>\n",
       "<style scoped>\n",
       "    .dataframe tbody tr th:only-of-type {\n",
       "        vertical-align: middle;\n",
       "    }\n",
       "\n",
       "    .dataframe tbody tr th {\n",
       "        vertical-align: top;\n",
       "    }\n",
       "\n",
       "    .dataframe thead th {\n",
       "        text-align: right;\n",
       "    }\n",
       "</style>\n",
       "<table border=\"1\" class=\"dataframe\">\n",
       "  <thead>\n",
       "    <tr style=\"text-align: right;\">\n",
       "      <th></th>\n",
       "      <th>Date</th>\n",
       "      <th>StockID</th>\n",
       "      <th>MarketCap</th>\n",
       "      <th>Ret_5d</th>\n",
       "      <th>Ret_20d</th>\n",
       "      <th>Ret_60d</th>\n",
       "      <th>Ret_month</th>\n",
       "      <th>EWMA_vol</th>\n",
       "    </tr>\n",
       "  </thead>\n",
       "  <tbody>\n",
       "    <tr>\n",
       "      <th>0</th>\n",
       "      <td>2017-01-31</td>\n",
       "      <td>10001</td>\n",
       "      <td>133078.0</td>\n",
       "      <td>4.370390e-07</td>\n",
       "      <td>-0.000002</td>\n",
       "      <td>-0.005954</td>\n",
       "      <td>-0.000002</td>\n",
       "      <td>0.000450</td>\n",
       "    </tr>\n",
       "    <tr>\n",
       "      <th>1</th>\n",
       "      <td>2017-02-28</td>\n",
       "      <td>10001</td>\n",
       "      <td>133078.0</td>\n",
       "      <td>3.951997e-03</td>\n",
       "      <td>0.002795</td>\n",
       "      <td>0.009953</td>\n",
       "      <td>0.009953</td>\n",
       "      <td>0.000180</td>\n",
       "    </tr>\n",
       "    <tr>\n",
       "      <th>2</th>\n",
       "      <td>2017-03-31</td>\n",
       "      <td>10001</td>\n",
       "      <td>133604.0</td>\n",
       "      <td>-7.874612e-03</td>\n",
       "      <td>-0.015749</td>\n",
       "      <td>0.021723</td>\n",
       "      <td>-0.015749</td>\n",
       "      <td>0.000064</td>\n",
       "    </tr>\n",
       "    <tr>\n",
       "      <th>3</th>\n",
       "      <td>2017-04-28</td>\n",
       "      <td>10001</td>\n",
       "      <td>131500.0</td>\n",
       "      <td>9.999880e-03</td>\n",
       "      <td>0.016001</td>\n",
       "      <td>0.038072</td>\n",
       "      <td>0.016001</td>\n",
       "      <td>0.000030</td>\n",
       "    </tr>\n",
       "    <tr>\n",
       "      <th>4</th>\n",
       "      <td>2017-05-31</td>\n",
       "      <td>10001</td>\n",
       "      <td>133604.0</td>\n",
       "      <td>4.370390e-07</td>\n",
       "      <td>0.021722</td>\n",
       "      <td>NaN</td>\n",
       "      <td>0.023703</td>\n",
       "      <td>0.000015</td>\n",
       "    </tr>\n",
       "  </tbody>\n",
       "</table>\n",
       "</div>"
      ],
      "text/plain": [
       "        Date StockID  MarketCap        Ret_5d   Ret_20d   Ret_60d  Ret_month  \\\n",
       "0 2017-01-31   10001   133078.0  4.370390e-07 -0.000002 -0.005954  -0.000002   \n",
       "1 2017-02-28   10001   133078.0  3.951997e-03  0.002795  0.009953   0.009953   \n",
       "2 2017-03-31   10001   133604.0 -7.874612e-03 -0.015749  0.021723  -0.015749   \n",
       "3 2017-04-28   10001   131500.0  9.999880e-03  0.016001  0.038072   0.016001   \n",
       "4 2017-05-31   10001   133604.0  4.370390e-07  0.021722       NaN   0.023703   \n",
       "\n",
       "   EWMA_vol  \n",
       "0  0.000450  \n",
       "1  0.000180  \n",
       "2  0.000064  \n",
       "3  0.000030  \n",
       "4  0.000015  "
      ]
     },
     "execution_count": 18,
     "metadata": {},
     "output_type": "execute_result"
    }
   ],
   "source": [
    "label_df = pd.read_feather(op.join(img_path, f\"20d_month_has_vb_[20]_ma_{year}_labels_w_delay.feather\"))\n",
    "label_df.head()"
   ]
  },
  {
   "cell_type": "code",
   "execution_count": 19,
   "metadata": {
    "editable": true,
    "slideshow": {
     "slide_type": ""
    },
    "tags": []
   },
   "outputs": [],
   "source": [
    "# Create binary prediction target; The objective for this project is to predict the binary price movement for the next five days\n",
    "label_df['Ret_5d_binary'] = (label_df['Ret_5d'] > 0).astype(int)"
   ]
  },
  {
   "cell_type": "code",
   "execution_count": 20,
   "metadata": {
    "editable": true,
    "slideshow": {
     "slide_type": ""
    },
    "tags": []
   },
   "outputs": [
    {
     "name": "stdout",
     "output_type": "stream",
     "text": [
      "Date range: 2017-01-31 00:00:00 to 2017-12-29 00:00:00\n"
     ]
    }
   ],
   "source": [
    "print(f\"Date range: {label_df['Date'].min()} to {label_df['Date'].max()}\") # print the sample period"
   ]
  },
  {
   "cell_type": "markdown",
   "metadata": {
    "editable": true,
    "slideshow": {
     "slide_type": ""
    },
    "tags": []
   },
   "source": [
    "## Plot the Sample Images"
   ]
  },
  {
   "cell_type": "code",
   "execution_count": 21,
   "metadata": {
    "editable": true,
    "slideshow": {
     "slide_type": ""
    },
    "tags": []
   },
   "outputs": [
    {
     "name": "stdout",
     "output_type": "stream",
     "text": [
      "0\n"
     ]
    },
    {
     "data": {
      "image/png": "[encoded data removed]",
      "text/plain": [
       "<Figure size 640x480 with 1 Axes>"
      ]
     },
     "metadata": {},
     "output_type": "display_data"
    },
    {
     "name": "stdout",
     "output_type": "stream",
     "text": [
      "1\n"
     ]
    },
    {
     "data": {
      "image/png": "[encoded data removed]",
      "text/plain": [
       "<Figure size 640x480 with 1 Axes>"
      ]
     },
     "metadata": {},
     "output_type": "display_data"
    },
    {
     "name": "stdout",
     "output_type": "stream",
     "text": [
      "2\n"
     ]
    },
    {
     "data": {
      "image/png": "[encoded data removed]",
      "text/plain": [
       "<Figure size 640x480 with 1 Axes>"
      ]
     },
     "metadata": {},
     "output_type": "display_data"
    },
    {
     "name": "stdout",
     "output_type": "stream",
     "text": [
      "3\n"
     ]
    },
    {
     "data": {
      "image/png": "[encoded data removed]",
      "text/plain": [
       "<Figure size 640x480 with 1 Axes>"
      ]
     },
     "metadata": {},
     "output_type": "display_data"
    },
    {
     "name": "stdout",
     "output_type": "stream",
     "text": [
      "4\n"
     ]
    },
    {
     "data": {
      "image/png": "[encoded data removed]",
      "text/plain": [
       "<Figure size 640x480 with 1 Axes>"
      ]
     },
     "metadata": {},
     "output_type": "display_data"
    }
   ],
   "source": [
    "from matplotlib import pyplot as plt\n",
    "for i in range(5):\n",
    "    print(i)\n",
    "    plt.imshow(images[i], cmap='gray')\n",
    "    plt.show()"
   ]
  },
  {
   "cell_type": "code",
   "execution_count": null,
   "metadata": {},
   "outputs": [],
   "source": [
    "import os\n",
    "os._exit(00)"
   ]
  },
  {
   "cell_type": "code",
   "execution_count": 4,
   "metadata": {},
   "outputs": [
    {
     "name": "stdout",
     "output_type": "stream",
     "text": [
      "Memory Allocated: 0.00 MB\n",
      "Memory Reserved: 0.00 MB\n"
     ]
    }
   ],
   "source": [
    "import gc\n",
    "#del X, y, model\n",
    "#gc.collect()\n",
    "#torch.cuda.empty_cache()\n",
    "\n",
    "print(f\"Memory Allocated: {torch.cuda.memory_allocated() / 1024**2:.2f} MB\")\n",
    "print(f\"Memory Reserved: {torch.cuda.memory_reserved() / 1024**2:.2f} MB\")"
   ]
  },
  {
   "cell_type": "code",
   "execution_count": 5,
   "metadata": {},
   "outputs": [
    {
     "name": "stdout",
     "output_type": "stream",
     "text": [
      "Loading data for year 1993...\n",
      "Loading data for year 1994...\n",
      "Loading data for year 1995...\n",
      "Loading data for year 1996...\n",
      "Loading data for year 1997...\n",
      "Total images loaded: 488386\n",
      "Total labels loaded: 488386\n"
     ]
    }
   ],
   "source": [
    "start_year = 1993\n",
    "end_year = 1997\n",
    "\n",
    "all_images = []\n",
    "all_labels = []\n",
    "\n",
    "for year in range(start_year, end_year + 1):\n",
    "    print(f\"Loading data for year {year}...\")\n",
    "\n",
    "    # Load images\n",
    "    image_file = op.join(img_path, f\"20d_month_has_vb_[20]_ma_{year}_images.dat\")\n",
    "    images = np.memmap(image_file, dtype=np.uint8, mode='r').reshape((-1, IMAGE_HEIGHT[20], IMAGE_WIDTH[20]))\n",
    "    \n",
    "    # Load labels\n",
    "    label_file = op.join(img_path, f\"20d_month_has_vb_[20]_ma_{year}_labels_w_delay.feather\")\n",
    "    label_df = pd.read_feather(label_file)\n",
    "    label_df['Ret_5d_binary'] = (label_df['Ret_5d'] > 0).astype(int)\n",
    "    \n",
    "    # Append data\n",
    "    all_images.append(images)\n",
    "    all_labels.append(label_df['Ret_5d_binary'].values)\n",
    "\n",
    "# Concatenate all years\n",
    "np_images = np.concatenate(all_images, axis=0)\n",
    "np_labels = np.concatenate(all_labels, axis=0)\n",
    "\n",
    "print(f\"Total images loaded: {np_images.shape[0]}\")\n",
    "print(f\"Total labels loaded: {np_labels.shape[0]}\")"
   ]
  },
  {
   "cell_type": "markdown",
   "metadata": {
    "editable": true,
    "slideshow": {
     "slide_type": ""
    },
    "tags": []
   },
   "source": [
    "## Convolutional Neural Network"
   ]
  },
  {
   "cell_type": "code",
   "execution_count": 6,
   "metadata": {
    "editable": true,
    "slideshow": {
     "slide_type": ""
    },
    "tags": []
   },
   "outputs": [],
   "source": [
    "import torch\n",
    "import torch.nn as nn\n",
    "import torch.optim as optim\n",
    "from torch.utils.data import DataLoader, TensorDataset\n",
    "from torchvision import transforms\n",
    "from sklearn.model_selection import train_test_split"
   ]
  },
  {
   "cell_type": "code",
   "execution_count": 7,
   "metadata": {},
   "outputs": [],
   "source": [
    "# Convert to PyTorch tensors\n",
    "X = torch.tensor(np_images, dtype=torch.float32, device='cuda').unsqueeze(1)  # Add channel dimension\n",
    "y = torch.tensor(np_labels, dtype=torch.float32, device='cuda')\n",
    "\n",
    "# Time-Series Split \n",
    "tscv = TimeSeriesSplit(n_splits=2,max_train_size=np_images.shape[0] * 0.8)\n",
    "\n",
    "for train_index, test_index in tscv.split(X):\n",
    "    X_train, X_test = X[train_index], X[test_index]\n",
    "    y_train, y_test = y[train_index], y[test_index]\n",
    "\n",
    "# Further split test set into validation & test (50%-50%)\n",
    "val_size = len(X_test) // 2\n",
    "X_val, X_test = X_test[:val_size], X_test[val_size:]\n",
    "y_val, y_test = y_test[:val_size], y_test[val_size:]\n",
    "\n",
    "# Create datasets and DataLoaders\n",
    "train_dataset = TensorDataset(X_train, y_train)\n",
    "val_dataset = TensorDataset(X_val, y_val)\n",
    "test_dataset = TensorDataset(X_test, y_test)\n",
    "\n",
    "batch_size = 32\n",
    "train_loader = DataLoader(train_dataset, batch_size=batch_size, shuffle=False)  # No shuffle for time-series\n",
    "val_loader = DataLoader(val_dataset, batch_size=batch_size, shuffle=False)\n",
    "test_loader = DataLoader(test_dataset, batch_size=batch_size, shuffle=False)\n"
   ]
  },
  {
   "cell_type": "code",
   "execution_count": 8,
   "metadata": {},
   "outputs": [
    {
     "name": "stdout",
     "output_type": "stream",
     "text": [
      "243687\n",
      "244699\n"
     ]
    },
    {
     "data": {
      "text/plain": [
       "0.9958643067605507"
      ]
     },
     "execution_count": 8,
     "metadata": {},
     "output_type": "execute_result"
    }
   ],
   "source": [
    "print((y==0).sum().item())\n",
    "print((y==1).sum().item())\n",
    "\n",
    "pos_weight = ((y==0).sum().item() / (y==1).sum().item())\n",
    "pos_weight"
   ]
  },
  {
   "cell_type": "code",
   "execution_count": 12,
   "metadata": {},
   "outputs": [],
   "source": [
    "class StockNet(nn.Module):\n",
    "    def __init__(self):\n",
    "        super(StockNet, self).__init__()\n",
    "        self.conv1 = nn.Conv2d(1, 32, kernel_size=3, padding=1)\n",
    "        self.pool = nn.MaxPool2d(2, 2)\n",
    "        self.conv2 = nn.Conv2d(32, 64, kernel_size=3, padding=1)\n",
    "        self.conv3 = nn.Conv2d(64, 64, kernel_size=3, padding=1)\n",
    "        self.fc1 = nn.Linear(64 * 8 * 7, 64) \n",
    "        self.fc2 = nn.Linear(64, 1)\n",
    "        self.dropout = nn.Dropout(0.5)\n",
    "        \n",
    "    def forward(self, x):\n",
    "        x = self.pool(nn.functional.relu(self.conv1(x)))  # 64x60 -> 32x30\n",
    "        x = self.pool(nn.functional.relu(self.conv2(x)))  # 32x30 -> 16x15\n",
    "        x = self.pool(nn.functional.relu(self.conv3(x)))  # 16x15 -> 8x7\n",
    "        x = x.view(-1, 64 * 8 * 7)  # Flatten to 64*8*7\n",
    "        x = self.dropout(nn.functional.relu(self.fc1(x)))\n",
    "        x = torch.sigmoid(self.fc2(x))\n",
    "        return x"
   ]
  },
  {
   "cell_type": "code",
   "execution_count": 28,
   "metadata": {
    "editable": true,
    "slideshow": {
     "slide_type": ""
    },
    "tags": []
   },
   "outputs": [],
   "source": [
    "# Define CNN model\n",
    "class StockNet(nn.Module):\n",
    "    def __init__(self):\n",
    "        super(StockNet, self).__init__()\n",
    "        self.conv1 = nn.Conv2d(1, 32, kernel_size=5, padding=2)\n",
    "        self.batchnorm1=nn.BatchNorm2d(32)\n",
    "        self.conv2 = nn.Conv2d(32, 64, kernel_size=5, padding=2)\n",
    "        self.batchnorm2=nn.BatchNorm2d(64)\n",
    "        self.conv3 = nn.Conv2d(64, 128, kernel_size=5, padding=2)\n",
    "        self.batchnorm3=nn.BatchNorm2d(128)\n",
    "        self.conv4 = nn.Conv2d(128, 256, kernel_size=5, padding=2)  # New Conv Layer\n",
    "        self.batchnorm4=nn.BatchNorm2d(256)\n",
    "        self.conv5 = nn.Conv2d(256, 512, kernel_size=5, padding=2)  # New Conv Layer\n",
    "        self.batchnorm5=nn.BatchNorm2d(512)\n",
    "        self.pool = nn.MaxPool2d(2, 2)\n",
    "        \n",
    "        # Adjusted fully connected layer input size\n",
    "        self.fc1 = nn.Linear(512 * 2 *1, 256)  # Adjusted for deeper CNN\n",
    "        self.fc2 = nn.Linear(256, 64)\n",
    "        self.fc3 = nn.Linear(64, 1)\n",
    "        self.dropout = nn.Dropout(0.3)\n",
    "        self.leaky_relu = nn.LeakyReLU(negative_slope=0.01)  \n",
    "\n",
    "    def forward(self, x):\n",
    "        x = self.pool(self.leaky_relu(self.batchnorm1(self.conv1(x))))  # 64x60 -> 32x30\n",
    "        x = self.pool(self.leaky_relu(self.batchnorm2(self.conv2(x))))  # 32x30 -> 16x15\n",
    "        x = self.pool(self.leaky_relu(self.batchnorm3(self.conv3(x))))  # 16x15 -> 8x7\n",
    "        x = self.pool(self.leaky_relu(self.batchnorm4(self.conv4(x))))  # 8x7 -> 4x3\n",
    "        x = self.pool(self.leaky_relu(self.batchnorm5(self.conv5(x))))  # 4x3 -> 2x1\n",
    "\n",
    "        x = x.view(-1, 512 * 2 *1)  # Flatten feature maps\n",
    "\n",
    "        x = self.dropout(nn.functional.relu(self.fc1(x)))\n",
    "        x = self.dropout(nn.functional.relu(self.fc2(x)))\n",
    "        #x = self.fc3(x)\n",
    "        x = torch.sigmoid(self.fc3(x))\n",
    "        return x"
   ]
  },
  {
   "cell_type": "code",
   "execution_count": 29,
   "metadata": {
    "editable": true,
    "slideshow": {
     "slide_type": ""
    },
    "tags": []
   },
   "outputs": [],
   "source": [
    "model = StockNet().to('cuda:0')"
   ]
  },
  {
   "cell_type": "code",
   "execution_count": 32,
   "metadata": {
    "editable": true,
    "slideshow": {
     "slide_type": ""
    },
    "tags": []
   },
   "outputs": [
    {
     "name": "stdout",
     "output_type": "stream",
     "text": [
      "min_val_loss:0.7401769123971462\n",
      "Epoch 1/100, Train Loss: 0.574074, Val Loss: 0.740177\n",
      "Val Accuracy: 0.543079, Total. Correct: 44205, Total. test : 81397\n",
      "Epoch 2/100, Train Loss: 0.567077, Val Loss: 0.745534\n",
      "Val Accuracy: 0.543165, Total. Correct: 44212, Total. test : 81397\n",
      "Epoch 3/100, Train Loss: 0.563650, Val Loss: 0.748722\n",
      "Val Accuracy: 0.543054, Total. Correct: 44203, Total. test : 81397\n",
      "Epoch 4/100, Train Loss: 0.560642, Val Loss: 0.751424\n",
      "Val Accuracy: 0.543128, Total. Correct: 44209, Total. test : 81397\n",
      "Epoch 5/100, Train Loss: 0.558063, Val Loss: 0.754035\n",
      "Val Accuracy: 0.543030, Total. Correct: 44201, Total. test : 81397\n"
     ]
    },
    {
     "ename": "KeyboardInterrupt",
     "evalue": "",
     "output_type": "error",
     "traceback": [
      "\u001b[0;31m---------------------------------------------------------------------------\u001b[0m",
      "\u001b[0;31mKeyboardInterrupt\u001b[0m                         Traceback (most recent call last)",
      "Cell \u001b[0;32mIn[32], line 29\u001b[0m\n\u001b[1;32m     27\u001b[0m     loss\u001b[38;5;241m.\u001b[39mbackward()\n\u001b[1;32m     28\u001b[0m     optimizer\u001b[38;5;241m.\u001b[39mstep()        \n\u001b[0;32m---> 29\u001b[0m     train_loss \u001b[38;5;241m+\u001b[39m\u001b[38;5;241m=\u001b[39m \u001b[43mloss\u001b[49m\u001b[38;5;241;43m.\u001b[39;49m\u001b[43mitem\u001b[49m\u001b[43m(\u001b[49m\u001b[43m)\u001b[49m\n\u001b[1;32m     30\u001b[0m     train_total \u001b[38;5;241m+\u001b[39m\u001b[38;5;241m=\u001b[39m labels\u001b[38;5;241m.\u001b[39msize(\u001b[38;5;241m0\u001b[39m)\n\u001b[1;32m     32\u001b[0m \u001b[38;5;66;03m# Calculate validation loss\u001b[39;00m\n",
      "\u001b[0;31mKeyboardInterrupt\u001b[0m: "
     ]
    }
   ],
   "source": [
    "# Initialize model, loss, and optimizer\n",
    "#model = StockNet()\n",
    "\n",
    "criterion = nn.BCELoss()\n",
    "#criterion = nn.BCEWithLogitsLoss()\n",
    "optimizer = optim.Adam(model.parameters(), lr=0.0000001)\n",
    "\n",
    "# Training loop with validation\n",
    "num_epochs = 100\n",
    "train_losses, val_losses, val_accuracy = [], [], []\n",
    "\n",
    "# Early stopping\n",
    "min_val_loss = float('inf')\n",
    "last_min_ind = -1\n",
    "early_stopping_epoch = 15\n",
    "\n",
    "for epoch in range(num_epochs):\n",
    "    model.train()\n",
    "    train_loss = 0.0\n",
    "    train_total=0\n",
    "\n",
    "    for inputs, labels in train_loader:\n",
    "        inputs, labels = inputs.to('cuda:0'), labels.float().to('cuda:0')\n",
    "        optimizer.zero_grad()\n",
    "        outputs = model(inputs)\n",
    "        loss = criterion(outputs.squeeze(), labels)        \n",
    "        loss.backward()\n",
    "        optimizer.step()        \n",
    "        train_loss += loss.item()\n",
    "        train_total += labels.size(0)\n",
    "\n",
    "    # Calculate validation loss\n",
    "    model.eval()\n",
    "    val_loss = 0.0\n",
    "    correct=0\n",
    "    val_total = 0\n",
    "    with torch.no_grad():\n",
    "        for inputs, labels in val_loader:\n",
    "            inputs, labels = inputs.to('cuda:0'), labels.float().to('cuda:0')\n",
    "            outputs = model(inputs)\n",
    "            loss = criterion(outputs.squeeze(), labels)\n",
    "            val_loss += loss.item()\n",
    "            val_total += labels.size(0)\n",
    "            predicted = (outputs.squeeze() > 0.5).float()\n",
    "            correct += (predicted == labels).sum().item()\n",
    "           \n",
    "\n",
    "    train_losses.append(train_loss / len(train_loader))\n",
    "    val_losses.append(val_loss / len(val_loader))\n",
    "    val_accuracy.append(correct / val_total)\n",
    "\n",
    "    if val_losses[-1] < min_val_loss:\n",
    "        last_min_ind = epoch\n",
    "        min_val_loss = val_losses[-1]\n",
    "        print(f'min_val_loss:{min_val_loss}')\n",
    "    elif epoch - last_min_ind >= early_stopping_epoch:\n",
    "        print(f'Early Stopping Triggered epoch:{epoch}, early_stopping_epoch:{early_stopping_epoch},last_min_ind:{last_min_ind}, min_val_loss:{min_val_loss}')\n",
    "        break\n",
    "\n",
    "    print(f'Epoch {epoch+1}/{num_epochs}, Train Loss: {train_losses[-1]:.6f}, Val Loss: {val_losses[-1]:.6f}')\n",
    "    print(f'Val Accuracy: {val_accuracy[-1]:.6f}, Total. Correct: {correct}, Total. test : {val_total}')"
   ]
  },
  {
   "cell_type": "code",
   "execution_count": 94,
   "metadata": {},
   "outputs": [
    {
     "data": {
      "image/png": "[encoded data removed]",
      "text/plain": [
       "<Figure size 800x500 with 1 Axes>"
      ]
     },
     "metadata": {},
     "output_type": "display_data"
    }
   ],
   "source": [
    "# Plot training & validation loss\n",
    "plt.figure(figsize=(8, 5))\n",
    "plt.plot(range(1, num_epochs + 1), train_losses, label='Train Loss')\n",
    "plt.plot(range(1, num_epochs + 1), val_losses, label='Validation Loss')\n",
    "plt.xlabel('Epochs')\n",
    "plt.ylabel('Loss')\n",
    "plt.legend()\n",
    "plt.title('Training & Validation Loss')\n",
    "plt.show()"
   ]
  },
  {
   "cell_type": "code",
   "execution_count": 95,
   "metadata": {},
   "outputs": [
    {
     "data": {
      "text/plain": [
       "array([1, 1, 0, ..., 0, 1, 1])"
      ]
     },
     "execution_count": 95,
     "metadata": {},
     "output_type": "execute_result"
    }
   ],
   "source": [
    "label_df['Ret_5d_binary'].values"
   ]
  },
  {
   "cell_type": "code",
   "execution_count": 19,
   "metadata": {},
   "outputs": [
    {
     "name": "stdout",
     "output_type": "stream",
     "text": [
      "Test Accuracy: 0.4979\n",
      "Precision: 0.0000\n",
      "Recall: 0.0000\n",
      "F1-score: 0.0000\n"
     ]
    },
    {
     "name": "stderr",
     "output_type": "stream",
     "text": [
      "/home/nnagarajan/anaconda3/envs/fa690/lib/python3.9/site-packages/sklearn/metrics/_classification.py:1565: UndefinedMetricWarning: Precision is ill-defined and being set to 0.0 due to no predicted samples. Use `zero_division` parameter to control this behavior.\n",
      "  _warn_prf(average, modifier, f\"{metric.capitalize()} is\", len(result))\n"
     ]
    }
   ],
   "source": [
    "# Model Evaluation\n",
    "model.eval()\n",
    "y_true, y_pred = [], []\n",
    "\n",
    "with torch.no_grad():\n",
    "    for inputs, labels in test_loader:\n",
    "        outputs = model(inputs)\n",
    "        predicted = (outputs.squeeze() > 0.5).float()\n",
    "        y_true.extend(labels.cpu().numpy())\n",
    "        y_pred.extend(predicted.cpu().numpy())\n",
    "\n",
    "# Calculate performance metrics\n",
    "accuracy = accuracy_score(y_true, y_pred)\n",
    "precision = precision_score(y_true, y_pred)\n",
    "recall = recall_score(y_true, y_pred)\n",
    "f1 = f1_score(y_true, y_pred)\n",
    "\n",
    "print(f'Test Accuracy: {accuracy:.4f}')\n",
    "print(f'Precision: {precision:.4f}')\n",
    "print(f'Recall: {recall:.4f}')\n",
    "print(f'F1-score: {f1:.4f}')"
   ]
  },
  {
   "cell_type": "code",
   "execution_count": 52,
   "metadata": {},
   "outputs": [
    {
     "name": "stdout",
     "output_type": "stream",
     "text": [
      "Number of misclassified samples: 2719\n"
     ]
    },
    {
     "data": {
      "image/png": "[encoded data removed]",
      "text/plain": [
       "<Figure size 1500x300 with 5 Axes>"
      ]
     },
     "metadata": {},
     "output_type": "display_data"
    }
   ],
   "source": [
    "# Analyze misclassified examples\n",
    "misclassified_indices = [i for i in range(len(y_true)) if y_true[i] != y_pred[i]]\n",
    "print(f\"Number of misclassified samples: {len(misclassified_indices)}\")\n",
    "\n",
    "# Display some misclassified images\n",
    "num_display = min(5, len(misclassified_indices))\n",
    "fig, axes = plt.subplots(1, num_display, figsize=(15, 3))\n",
    "\n",
    "for i, idx in enumerate(misclassified_indices[:num_display]):\n",
    "    img = X_test[idx].cpu().numpy().squeeze()  # Convert back to NumPy\n",
    "    axes[i].imshow(img, cmap='gray')\n",
    "    axes[i].set_title(f\"True: {y_true[idx]}, Pred: {y_pred[idx]}\")\n",
    "    axes[i].axis('off')\n",
    "\n",
    "plt.show()"
   ]
  },
  {
   "cell_type": "code",
   "execution_count": null,
   "metadata": {},
   "outputs": [],
   "source": []
  }
 ],
 "metadata": {
  "kernelspec": {
   "display_name": "Python 3 (ipykernel)",
   "language": "python",
   "name": "python3"
  },
  "language_info": {
   "codemirror_mode": {
    "name": "ipython",
    "version": 3
   },
   "file_extension": ".py",
   "mimetype": "text/x-python",
   "name": "python",
   "nbconvert_exporter": "python",
   "pygments_lexer": "ipython3",
   "version": "3.9.21"
  }
 },
 "nbformat": 4,
 "nbformat_minor": 4
}
